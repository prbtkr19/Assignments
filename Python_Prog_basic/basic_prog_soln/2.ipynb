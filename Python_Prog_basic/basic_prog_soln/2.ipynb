{
 "cells": [
  {
   "cell_type": "code",
   "execution_count": null,
   "id": "223358fb",
   "metadata": {},
   "outputs": [],
   "source": [
    "#1 Write a Python program to convert kilometers to miles?\n",
    "def km_miles():\n",
    "    a = float(input(\"enter kilometer to convert:\"))\n",
    "    conv_fac = 0.621371\n",
    "    miles = a*conv_fac\n",
    "    print(\"converted km {} to miles is {}\".format(a,miles))\n",
    "    \n",
    "km_miles()\n"
   ]
  },
  {
   "cell_type": "code",
   "execution_count": null,
   "id": "13360f8c",
   "metadata": {},
   "outputs": [],
   "source": [
    "2# Write a Python program to convert Celsius to Fahrenheit?\n",
    "def cel_to_fahre():\n",
    "    \n",
    "    try:\n",
    "        \n",
    "        celsius = float(input(\"enter celsius to convert: \"))\n",
    "        fahre =  (celsius * 1.8) + 32 \n",
    "        print('%0.1f degree Celsius is equal to %0.1f degree Fahrenheit' %(celsius,fahre))\n",
    "\n",
    "        #print(\"%s converted to fahr is: %d fahre\". %(celsius,fahre))\n",
    "    except ValueError as e:\n",
    "        print(e)\n",
    "\n",
    "cel_to_fahre()\n",
    "    "
   ]
  },
  {
   "cell_type": "code",
   "execution_count": null,
   "id": "98154fb9",
   "metadata": {},
   "outputs": [],
   "source": [
    "# Program to display calendar \n",
    "\n",
    "# importing calendar module\n",
    "import calendar\n",
    "#The built-in function month() inside the module takes in the year and the month \n",
    "#and displays the calendar for that month of the year.\n",
    "year = 2022  # year\n",
    "month = 5     # month\n",
    "\n",
    "# To take month and year input from the user\n",
    "# yy = int(input(\"Enter year: \"))\n",
    "# mm = int(input(\"Enter month: \"))\n",
    "\n",
    "# display the calendar\n",
    "#print(calendar.month(yy, mm))\n",
    "#if we print calender of a particular year\n",
    "print(calendar.month(year,month))\n"
   ]
  },
  {
   "cell_type": "code",
   "execution_count": 3,
   "id": "3e2331ac",
   "metadata": {},
   "outputs": [
    {
     "name": "stdout",
     "output_type": "stream",
     "text": [
      "enter value of a:3\n",
      "enter value of b:4\n",
      "enter value of c:3\n",
      "-20.0\n",
      "The solution are (-0.6666666666666666-0.7453559924999299j) and (-0.6666666666666666+0.7453559924999299j)\n",
      "probelm solved successfully\n"
     ]
    }
   ],
   "source": [
    "#4 Write a Python program to solve quadratic equation?\n",
    "\n",
    "# Solve the quadratic equation ax**2 + bx + c = 0\n",
    "# a not equal to zero\n",
    "# import complex math module\n",
    "import cmath\n",
    "    \n",
    "def cal_quadratic():\n",
    "    try:\n",
    "        a = float(input(\"enter value of a:\"))\n",
    "        \n",
    "        b = float(input(\"enter value of b:\"))\n",
    "\n",
    "        c = float(input(\"enter value of c:\"))\n",
    "        if a==0:\n",
    "            \n",
    "            raise Exception(\"zero not allowed try again\")\n",
    "        \n",
    "        # calculate the discriminant\n",
    "        d = (b**2) - (4*a*c)\n",
    "        print(d)\n",
    "        # find two solutions\n",
    "        sol1 = (-b-cmath.sqrt(d))/(2*a)\n",
    "        sol2 = (-b+cmath.sqrt(d))/(2*a)\n",
    "        print('The solution are {} and {}'.format(sol1,sol2))\n",
    "    except ZeroDivisionError as e:\n",
    "        print(e)\n",
    "        \n",
    "    else:\n",
    "        print(\"probelm solved successfully\")\n",
    "\n",
    "cal_quadratic()\n"
   ]
  },
  {
   "cell_type": "code",
   "execution_count": 2,
   "id": "a05cf56b",
   "metadata": {},
   "outputs": [
    {
     "name": "stdout",
     "output_type": "stream",
     "text": [
      "enter value of variable 1:2\n",
      "enter value of variable2:3\n",
      " swapped var1 is 3 and swappped var2 is 2\n"
     ]
    }
   ],
   "source": [
    "#5 Write a Python program to swap two variables without temp variable?\n",
    "def swap():\n",
    "    var1 = input(\"enter value of variable 1:\")\n",
    "    var2 = input(\"enter value of variable2:\")\n",
    "    #swap\n",
    "    var1, var2 = var2 , var1\n",
    "    #print(\"{} enter as var1 & {} entered as var2:\".format(var1,var2))\n",
    "    print(\" swapped var1 is {} and swappped var2 is {}\".format(var1,var2))\n",
    "swap()"
   ]
  },
  {
   "cell_type": "code",
   "execution_count": 8,
   "id": "09a2778e",
   "metadata": {},
   "outputs": [
    {
     "name": "stdout",
     "output_type": "stream",
     "text": [
      "enter value of var1:4\n",
      "enter value of var2:7\n",
      "swapped value of var 1 is 7\n",
      "swapped value of var 2 is 4\n"
     ]
    }
   ],
   "source": [
    "#with temp variable\n",
    "def swap_using_temp():\n",
    "    a1 = input(\"enter value of var1:\")\n",
    "    a2 = input(\"enter value of var2:\")\n",
    "    temp = a2\n",
    "    a1,a2 = temp,a1\n",
    "    print(\"swapped value of var 1 is {}\".format(a1))\n",
    "    print(\"swapped value of var 2 is {}\".format(a2))\n",
    "swap_using_temp()"
   ]
  },
  {
   "cell_type": "code",
   "execution_count": null,
   "id": "6e7061cc",
   "metadata": {},
   "outputs": [],
   "source": []
  }
 ],
 "metadata": {
  "kernelspec": {
   "display_name": "Python 3 (ipykernel)",
   "language": "python",
   "name": "python3"
  },
  "language_info": {
   "codemirror_mode": {
    "name": "ipython",
    "version": 3
   },
   "file_extension": ".py",
   "mimetype": "text/x-python",
   "name": "python",
   "nbconvert_exporter": "python",
   "pygments_lexer": "ipython3",
   "version": "3.8.8"
  }
 },
 "nbformat": 4,
 "nbformat_minor": 5
}

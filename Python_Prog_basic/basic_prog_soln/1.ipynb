{
 "cells": [
  {
   "cell_type": "code",
   "execution_count": 1,
   "id": "d26cf99c",
   "metadata": {},
   "outputs": [
    {
     "name": "stdout",
     "output_type": "stream",
     "text": [
      "Hello Python\n"
     ]
    }
   ],
   "source": [
    "#1Write a Python program to print \"Hello Python\"?\n",
    "print(\"Hello Python\")\n"
   ]
  },
  {
   "cell_type": "code",
   "execution_count": 5,
   "id": "146f483c",
   "metadata": {},
   "outputs": [
    {
     "name": "stdout",
     "output_type": "stream",
     "text": [
      "Enter first number: 5\n",
      "Enter second number: 5\n",
      "The sum of 5 and 5 is 10.0\n",
      "The division of 5 and 5 is 1.0\n"
     ]
    }
   ],
   "source": [
    "#2 Write a Python program to do arithmetical operations addition and division.?\n",
    " # Storing input numbers:  \n",
    "num1 = input('Enter first number: ')  \n",
    "num2 = input('Enter second number: ')  \n",
    "  \n",
    "# Add two numbers  \n",
    "sum = float(num1) + float(num2)  \n",
    "\n",
    "#Divide two numbers  \n",
    "div = float(num1) / float(num2)  \n",
    "# Display the sum  \n",
    "print('The sum of {} and {} is {}'.format(num1, num2, sum))  \n",
    "  \n",
    "# Display the division  \n",
    "print('The division of {} and {} is {}'.format(num1, num2, div))  \n"
   ]
  },
  {
   "cell_type": "code",
   "execution_count": 11,
   "id": "e7dfd018",
   "metadata": {},
   "outputs": [
    {
     "name": "stdout",
     "output_type": "stream",
     "text": [
      "enter first number:2\n",
      "enter second number:2\n",
      "The sum of 2.0 and 2.0 is 4.0\n",
      "The division of 2.0 and 2.0 is 1.0\n"
     ]
    }
   ],
   "source": [
    "\n",
    "def add_div():\n",
    "    \n",
    "    num1 = float(input(\"enter first number:\"))\n",
    "    num2 = float(input(\"enter second number:\"))\n",
    "    # Add two numbers  \n",
    "    sum = num1 + num2  \n",
    "\n",
    "    #Divide two numbers  \n",
    "    div = float(num1) / float(num2)  \n",
    "    # Display the sum  \n",
    "    print('The sum of {} and {} is {}'.format(num1, num2, sum))  \n",
    "\n",
    "    # Display the division  \n",
    "    print('The division of {} and {} is {}'.format(num1, num2, div)) \n",
    "        \n",
    "add_div()\n",
    "            "
   ]
  },
  {
   "cell_type": "markdown",
   "id": "b3be0f88",
   "metadata": {},
   "source": [
    "### arithematic operation for sum and division\n",
    "while(True):\n",
    "    \n",
    "    try:\n",
    "        num1=int(input(\"Input first no:\"))\n",
    "        num2=int(input(\"Input second no:\"))\n",
    "        if a<0 or b<0:\n",
    "            raise Exception(\"Negative numbers not allowed!Try again\")\n",
    "        # Add two numbers  \n",
    "        sum = float(num1) + float(num2)  \n",
    "\n",
    "        #Divide two numbers  \n",
    "        div = float(num1) / float(num2)  \n",
    "        # Display the sum  \n",
    "        print('The sum of {} and {} is {}'.format(num1, num2, sum))  \n",
    "\n",
    "        # Display the division  \n",
    "        print('The division of {} and {} is {}'.format(num1, num2, div))\n",
    "        break;\n",
    "    except ValueError:\n",
    "        print(\"Please input integers only! Try again\")\n",
    "    except ZeroDivisionError:\n",
    "        print(\"Please input non-zero denominator\")\n",
    "    except Exception as e:\n",
    "        print(e)\n"
   ]
  },
  {
   "cell_type": "code",
   "execution_count": 17,
   "id": "3cdda729",
   "metadata": {},
   "outputs": [
    {
     "name": "stdout",
     "output_type": "stream",
     "text": [
      "enter side a3\n",
      "enter side b3\n",
      "enter side c3\n"
     ]
    },
    {
     "data": {
      "text/plain": [
       "('area of triangle is ', 3.897114317029974)"
      ]
     },
     "execution_count": 17,
     "metadata": {},
     "output_type": "execute_result"
    }
   ],
   "source": [
    "#3 Write a Python program to find the area of a triangle?\n",
    "def area_of_triangle():\n",
    "    \n",
    "    # taking 3 sides from user\n",
    "    a = float(input(\"enter side a\"))\n",
    "    b = float(input(\"enter side b\"))\n",
    "    c = float(input(\"enter side c\"))\n",
    "    # calculate the semi-perimeter  \n",
    "    s = (a + b + c) / 2  \n",
    "  \n",
    "    # calculate the area  \n",
    "    area = (s*(s-a)*(s-b)*(s-c)) ** 0.5  \n",
    "    return (\"area of triangle is: \",area)\n",
    "\n",
    "area_of_triangle()"
   ]
  },
  {
   "cell_type": "code",
   "execution_count": 6,
   "id": "f486848d",
   "metadata": {},
   "outputs": [
    {
     "name": "stdout",
     "output_type": "stream",
     "text": [
      "enter first number2\n",
      "value of a : 2\n",
      "enter second number3\n",
      "value of b : 3\n",
      "number after swapped value of a: 3\n",
      "number after swapped value of b: 2\n"
     ]
    }
   ],
   "source": [
    "#using function\n",
    "#4 Write a Python program to swap two variables?\n",
    "def swap():\n",
    "    a = int(input(\"enter first number\"))\n",
    "    print(\"value of a :\", a)\n",
    "    b = int(input(\"enter second number\"))\n",
    "    print(\"value of b :\",b)\n",
    "    a,b = b,a\n",
    "    print(\"number after swapped value of a:\", a)\n",
    "    print(\"number after swapped value of b:\", b)\n",
    "swap()"
   ]
  },
  {
   "cell_type": "code",
   "execution_count": 5,
   "id": "ea1d0ca5",
   "metadata": {},
   "outputs": [
    {
     "name": "stdout",
     "output_type": "stream",
     "text": [
      "Enter value of x: 2\n",
      "Enter value of y: 3\n",
      "The value of x after swapping: 3\n",
      "The value of y after swapping: 2\n"
     ]
    }
   ],
   "source": [
    "#by creating a temporary variable\n",
    "# To take inputs from the user\n",
    "x = input('Enter value of x: ')\n",
    "y = input('Enter value of y: ')\n",
    "\n",
    "# create a temporary variable and swap the values\n",
    "temp = x\n",
    "x = y\n",
    "y = temp\n",
    "\n",
    "print('The value of x after swapping: {}'.format(x))\n",
    "print('The value of y after swapping: {}'.format(y))\n"
   ]
  },
  {
   "cell_type": "code",
   "execution_count": 8,
   "id": "82c587f2",
   "metadata": {},
   "outputs": [
    {
     "name": "stdout",
     "output_type": "stream",
     "text": [
      "6\n"
     ]
    }
   ],
   "source": [
    "#5 Write a Python program to generate a random number?\n",
    "\n",
    "#importing random  module\n",
    "import random\n",
    "\n",
    "print(random.randint(0,9))"
   ]
  },
  {
   "cell_type": "code",
   "execution_count": null,
   "id": "1dd60d30",
   "metadata": {},
   "outputs": [],
   "source": []
  }
 ],
 "metadata": {
  "kernelspec": {
   "display_name": "Python 3 (ipykernel)",
   "language": "python",
   "name": "python3"
  },
  "language_info": {
   "codemirror_mode": {
    "name": "ipython",
    "version": 3
   },
   "file_extension": ".py",
   "mimetype": "text/x-python",
   "name": "python",
   "nbconvert_exporter": "python",
   "pygments_lexer": "ipython3",
   "version": "3.8.8"
  }
 },
 "nbformat": 4,
 "nbformat_minor": 5
}

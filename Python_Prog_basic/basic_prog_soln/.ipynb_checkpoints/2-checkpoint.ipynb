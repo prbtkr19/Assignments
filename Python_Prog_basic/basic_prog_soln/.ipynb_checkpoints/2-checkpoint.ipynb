{
 "cells": [
  {
   "cell_type": "code",
   "execution_count": 6,
   "id": "223358fb",
   "metadata": {},
   "outputs": [
    {
     "name": "stdout",
     "output_type": "stream",
     "text": [
      "enter kilometer to convert:23\n",
      "converted km 23.0 to miles 14.291533 is\n"
     ]
    }
   ],
   "source": [
    "#1 Write a Python program to convert kilometers to miles?\n",
    "def km_miles():\n",
    "    a = float(input(\"enter kilometer to convert:\"))\n",
    "    conv_fac = 0.621371\n",
    "    miles = a*conv_fac\n",
    "    print(\"converted km {} to miles is {}\".format(a,miles))\n",
    "    \n",
    "km_miles()\n"
   ]
  },
  {
   "cell_type": "code",
   "execution_count": 3,
   "id": "13360f8c",
   "metadata": {},
   "outputs": [
    {
     "ename": "SyntaxError",
     "evalue": "invalid syntax (3957784271.py, line 7)",
     "output_type": "error",
     "traceback": [
      "\u001b[1;36m  Input \u001b[1;32mIn [3]\u001b[1;36m\u001b[0m\n\u001b[1;33m    fahre =  (celsius x 1.8) + 32\u001b[0m\n\u001b[1;37m                      ^\u001b[0m\n\u001b[1;31mSyntaxError\u001b[0m\u001b[1;31m:\u001b[0m invalid syntax\n"
     ]
    }
   ],
   "source": [
    "2# Write a Python program to convert Celsius to Fahrenheit?\n",
    "def cel_to_fahre():\n",
    "    \n",
    "    try:\n",
    "        \n",
    "        celsius = float(input(\"enter celsius to convert: \"))\n",
    "        fahre =  (celsius * 1.8) + 32 \n",
    "        print('%0.1f degree Celsius is equal to %0.1f degree Fahrenheit' %(celsius,fahre))\n",
    "\n",
    "        #print(\"%s converted to fahr is: %d fahre\". %(celsius,fahre))\n",
    "    except ValueError as e:\n",
    "        print(e)\n",
    "\n",
    "cel_to_fahre()\n",
    "    "
   ]
  },
  {
   "cell_type": "code",
   "execution_count": null,
   "id": "98154fb9",
   "metadata": {},
   "outputs": [],
   "source": [
    "3.\tWrite a Python program to display calendar?\n"
   ]
  },
  {
   "cell_type": "code",
   "execution_count": null,
   "id": "3e2331ac",
   "metadata": {},
   "outputs": [],
   "source": [
    "4.\tWrite a Python program to solve quadratic equation?\n"
   ]
  },
  {
   "cell_type": "code",
   "execution_count": null,
   "id": "a05cf56b",
   "metadata": {},
   "outputs": [],
   "source": [
    "5.\tWrite a Python program to swap two variables without temp variable?"
   ]
  }
 ],
 "metadata": {
  "kernelspec": {
   "display_name": "Python 3 (ipykernel)",
   "language": "python",
   "name": "python3"
  },
  "language_info": {
   "codemirror_mode": {
    "name": "ipython",
    "version": 3
   },
   "file_extension": ".py",
   "mimetype": "text/x-python",
   "name": "python",
   "nbconvert_exporter": "python",
   "pygments_lexer": "ipython3",
   "version": "3.8.8"
  }
 },
 "nbformat": 4,
 "nbformat_minor": 5
}

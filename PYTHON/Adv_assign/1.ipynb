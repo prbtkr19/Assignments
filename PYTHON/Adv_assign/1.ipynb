{
 "cells": [
  {
   "cell_type": "markdown",
   "id": "6db9e4f4",
   "metadata": {},
   "source": [
    "#### What is the purpose of Python's OOP?\n",
    "- purpose of Python's OOP is structuring a program by bundling related properties and behaviors into individual objects.\n",
    "- OOP is about code reuse \n",
    "-  minimize redundancy and program by customizing what already exists instead of changing code in place or starting from scratch\n"
   ]
  },
  {
   "cell_type": "markdown",
   "id": "f08269c8",
   "metadata": {},
   "source": [
    "#### Q2. Where does an inheritance search look for an attribute?\n",
    "\n",
    "- An inheritance search looks for an attribute first in the instance object,\n",
    "- then in the class the instance was created from, then in all higher superclasses,\n",
    "- progressing from left to right (by default). The search stops at the first place the attribute is found\n",
    "\n"
   ]
  },
  {
   "cell_type": "markdown",
   "id": "20dbe4e3",
   "metadata": {},
   "source": [
    "#### Q3. How do you distinguish between a class object and an instance object?\n",
    "\n",
    "class:\n",
    "    - A class is a template for creating objects in program.\n",
    "    - A class does not allocate memory space when it is created.\n",
    "object:\n",
    "    - The object is an instance of a class.\n",
    "    - Object allocates memory space whenever they are created.\n",
    "\n"
   ]
  },
  {
   "cell_type": "markdown",
   "id": "879b9db8",
   "metadata": {},
   "source": [
    "#### Q4. What makes the first argument in a class’s method function special?\n",
    "\n",
    "- The first argument of every class method, including init, is always a reference to the current instance of the class. \n",
    "- By convention, this argument is always named self.\n",
    "- In the init method, self refers to the newly created object;\n",
    "- in other class methods, it refers to the instance whose method was called.\n",
    "\n"
   ]
  },
  {
   "cell_type": "markdown",
   "id": "2ab99c72",
   "metadata": {},
   "source": [
    "#### Q5. What is the purpose of the __init__ method?\n",
    "\n",
    "- The __init__ method is the Python equivalent of the C++ constructor in an object-oriented approach.\n",
    "- The __init__  function is called every time an object is created from a class.\n",
    "- The __init__ method lets the class initialize the object’s attributes and serves no other purpose.\n",
    "- It is only used within classes\n",
    "\n"
   ]
  },
  {
   "cell_type": "markdown",
   "id": "b1aeab20",
   "metadata": {},
   "source": [
    "#### Q6. What is the process for creating a class instance?\n",
    "\n",
    "- Call ClassName() to create a new instance of the class ClassName . \n",
    "- To pass parameters to the class instance, the class must have an __init__() method.\n",
    "- Pass the parameters in the constructor of the class.\n",
    "\n",
    "\n"
   ]
  },
  {
   "cell_type": "markdown",
   "id": "58c0a836",
   "metadata": {},
   "source": [
    "#### Q7. What is the process for creating a class?\n",
    "\n",
    "\n",
    "- to create a class use the keyword class\n"
   ]
  },
  {
   "cell_type": "markdown",
   "id": "b58f4325",
   "metadata": {},
   "source": [
    "#### Q8. How would you define the superclasses of a class?\n",
    "\n",
    "- A superclass is the class from which many subclasses can be created. The subclasses inherit the characteristics of a superclass. \n",
    "- The superclass is also known as the parent class or base class\n",
    "- The super() function is used to give access to methods and properties of a parent or sibling class."
   ]
  },
  {
   "cell_type": "code",
   "execution_count": 1,
   "id": "99c5b4fc",
   "metadata": {},
   "outputs": [],
   "source": [
    "import numpy as np"
   ]
  },
  {
   "cell_type": "code",
   "execution_count": 2,
   "id": "136e45c7",
   "metadata": {},
   "outputs": [
    {
     "data": {
      "text/plain": [
       "array([[1, 2, 3],\n",
       "       [4, 5, 6],\n",
       "       [7, 8, 9]])"
      ]
     },
     "execution_count": 2,
     "metadata": {},
     "output_type": "execute_result"
    }
   ],
   "source": [
    "a = np.array([[1,2,3],[4,5,6],[7,8,9]])\n",
    "a"
   ]
  },
  {
   "cell_type": "code",
   "execution_count": 3,
   "id": "c5ea71cd",
   "metadata": {},
   "outputs": [
    {
     "data": {
      "text/plain": [
       "array([[1, 2, 3],\n",
       "       [4, 5, 6]])"
      ]
     },
     "execution_count": 3,
     "metadata": {},
     "output_type": "execute_result"
    }
   ],
   "source": [
    "a[:2]"
   ]
  },
  {
   "cell_type": "code",
   "execution_count": null,
   "id": "ddb169e6",
   "metadata": {},
   "outputs": [],
   "source": []
  },
  {
   "cell_type": "code",
   "execution_count": 7,
   "id": "7426e4f0",
   "metadata": {},
   "outputs": [],
   "source": [
    "b=a[:2,1:4]"
   ]
  },
  {
   "cell_type": "code",
   "execution_count": 8,
   "id": "b0a36ffd",
   "metadata": {},
   "outputs": [
    {
     "data": {
      "text/plain": [
       "array([[2, 3],\n",
       "       [5, 6]])"
      ]
     },
     "execution_count": 8,
     "metadata": {},
     "output_type": "execute_result"
    }
   ],
   "source": [
    "b"
   ]
  },
  {
   "cell_type": "code",
   "execution_count": null,
   "id": "b11c55d8",
   "metadata": {},
   "outputs": [],
   "source": []
  }
 ],
 "metadata": {
  "kernelspec": {
   "display_name": "Python 3 (ipykernel)",
   "language": "python",
   "name": "python3"
  },
  "language_info": {
   "codemirror_mode": {
    "name": "ipython",
    "version": 3
   },
   "file_extension": ".py",
   "mimetype": "text/x-python",
   "name": "python",
   "nbconvert_exporter": "python",
   "pygments_lexer": "ipython3",
   "version": "3.8.8"
  }
 },
 "nbformat": 4,
 "nbformat_minor": 5
}

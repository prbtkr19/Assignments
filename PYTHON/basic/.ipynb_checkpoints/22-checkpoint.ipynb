{
 "cells": [
  {
   "cell_type": "code",
   "execution_count": null,
   "id": "31e355d6-e0d4-460f-a03a-c06703918605",
   "metadata": {},
   "outputs": [],
   "source": [
    "Q1. What are the benefits of the built-in array package, if any?\n",
    "\n",
    "\n",
    "\n",
    "Q2. What are some of the array package's limitations?\n",
    "\n",
    "\n",
    "\n",
    "Q3. Describe the main differences between the array and numpy packages.\n",
    "\n",
    "\n",
    "\n",
    "Q4. Explain the distinctions between the empty, ones, and zeros functions.\n",
    "\n",
    "\n",
    "\n",
    "Q5. In the fromfunction function, which is used to construct new arrays, what is the role of the callable argument?\n",
    "\n",
    "\n",
    "\n",
    "Q6. What happens when a numpy array is combined with a single-value operand (a scalar, such as an int or a floating-point value) through addition, as in the expression A + n?\n",
    "\n",
    "\n",
    "\n",
    "Q7. Can array-to-scalar operations use combined operation-assign operators (such as += or *=)? What is the outcome?\n",
    "\n",
    "\n",
    "\n",
    "Q8. Does a numpy array contain fixed-length strings? What happens if you allocate a longer string to one of these arrays?\n",
    "\n",
    "\n",
    "\n",
    "Q9. What happens when you combine two numpy arrays using an operation like addition (+) or multiplication (*)? What are the conditions for combining two numpy arrays?\n",
    "\n",
    "\n",
    "\n",
    "Q10. What is the best way to use a Boolean array to mask another array?\n",
    "\n",
    "\n",
    "\n",
    "Q11. What are three different ways to get the standard deviation of a wide collection of data using both standard Python and its packages? Sort the three of them by how quickly they execute.\n",
    "\n",
    "\n",
    "\n",
    "12. What is the dimensionality of a Boolean mask-generated array?\n"
   ]
  }
 ],
 "metadata": {
  "kernelspec": {
   "display_name": "Python 3 (ipykernel)",
   "language": "python",
   "name": "python3"
  },
  "language_info": {
   "codemirror_mode": {
    "name": "ipython",
    "version": 3
   },
   "file_extension": ".py",
   "mimetype": "text/x-python",
   "name": "python",
   "nbconvert_exporter": "python",
   "pygments_lexer": "ipython3",
   "version": "3.8.8"
  }
 },
 "nbformat": 4,
 "nbformat_minor": 5
}
